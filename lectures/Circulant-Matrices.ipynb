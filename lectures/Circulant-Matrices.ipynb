{
 "cells": [
  {
   "cell_type": "code",
   "execution_count": 1,
   "metadata": {},
   "outputs": [
    {
     "data": {
      "text/html": [
       "<div id=\"interact-js-shim\">\n",
       "    <script charset=\"utf-8\">\n",
       "(function (IPython, $, _, MathJax) {\n",
       "    $.event.special.destroyed = {\n",
       "\tremove: function(o) {\n",
       "\t    if (o.handler) {\n",
       "\t\to.handler.apply(this, arguments)\n",
       "\t    }\n",
       "\t}\n",
       "    }\n",
       "\n",
       "    var OutputArea = IPython.version >= \"4.0.0\" ? require(\"notebook/js/outputarea\").OutputArea : IPython.OutputArea;\n",
       "\n",
       "    var redrawValue = function (container, type, val) {\n",
       "\tvar selector = $(\"<div/>\");\n",
       "\tvar oa = new OutputArea(_.extend(selector, {\n",
       "\t    selector: selector,\n",
       "\t    prompt_area: true,\n",
       "\t    events: IPython.events,\n",
       "\t    keyboard_manager: IPython.keyboard_manager\n",
       "\t})); // Hack to work with IPython 2.1.0\n",
       "\n",
       "\tswitch (type) {\n",
       "\tcase \"image/png\":\n",
       "            var _src = 'data:' + type + ';base64,' + val;\n",
       "\t    $(container).find(\"img\").attr('src', _src);\n",
       "\t    break;\n",
       "\tcase \"text/latex\":\n",
       "\t\tif (MathJax){\n",
       "\t\t\tvar math = MathJax.Hub.getAllJax(container)[0];\n",
       "\t\t\tMathJax.Hub.Queue([\"Text\", math, val.replace(/^\\${1,2}|\\${1,2}$/g, '')]);\n",
       "\t\t\tbreak;\n",
       "\t\t}\n",
       "\tdefault:\n",
       "\t    var toinsert = OutputArea.append_map[type].apply(\n",
       "\t\toa, [val, {}, selector]\n",
       "\t    );\n",
       "\t    $(container).empty().append(toinsert.contents());\n",
       "\t    selector.remove();\n",
       "\t}\n",
       "    }\n",
       "\n",
       "\n",
       "    $(document).ready(function() {\n",
       "\tfunction initComm(evt, data) {\n",
       "\t    var comm_manager = data.kernel.comm_manager;\n",
       "        //_.extend(comm_manager.targets, require(\"widgets/js/widget\"))\n",
       "\t    comm_manager.register_target(\"Signal\", function (comm) {\n",
       "            comm.on_msg(function (msg) {\n",
       "                var val = msg.content.data.value;\n",
       "                $(\".signal-\" + comm.comm_id).each(function() {\n",
       "                var type = $(this).data(\"type\");\n",
       "                if (typeof(val[type]) !== \"undefined\" && val[type] !== null) {\n",
       "                    redrawValue(this, type, val[type], type);\n",
       "                }\n",
       "                });\n",
       "                delete val;\n",
       "                delete msg.content.data.value;\n",
       "            });\n",
       "\t    });\n",
       "\n",
       "\t    // coordingate with Comm and redraw Signals\n",
       "\t    // XXX: Test using Reactive here to improve performance\n",
       "\t    $([IPython.events]).on(\n",
       "\t\t'output_appended.OutputArea', function (event, type, value, md, toinsert) {\n",
       "\t\t    if (md && md.reactive) {\n",
       "                // console.log(md.comm_id);\n",
       "                toinsert.addClass(\"signal-\" + md.comm_id);\n",
       "                toinsert.data(\"type\", type);\n",
       "                // Signal back indicating the mimetype required\n",
       "                var comm_manager = IPython.notebook.kernel.comm_manager;\n",
       "                var comm = comm_manager.comms[md.comm_id];\n",
       "                comm.then(function (c) {\n",
       "                    c.send({action: \"subscribe_mime\",\n",
       "                       mime: type});\n",
       "                    toinsert.bind(\"destroyed\", function() {\n",
       "                        c.send({action: \"unsubscribe_mime\",\n",
       "                               mime: type});\n",
       "                    });\n",
       "                })\n",
       "\t\t    }\n",
       "\t    });\n",
       "\t}\n",
       "\n",
       "\ttry {\n",
       "\t    // try to initialize right away. otherwise, wait on the status_started event.\n",
       "\t    initComm(undefined, IPython.notebook);\n",
       "\t} catch (e) {\n",
       "\t    $([IPython.events]).on('kernel_created.Kernel kernel_created.Session', initComm);\n",
       "\t}\n",
       "    });\n",
       "})(IPython, jQuery, _, MathJax);\n",
       "</script>\n",
       "    <script>\n",
       "        window.interactLoadedFlag = true\n",
       "       $(\"#interact-js-shim\").bind(\"destroyed\", function () {\n",
       "           if (window.interactLoadedFlag) {\n",
       "               console.warn(\"JavaScript required by Interact will be removed if you remove this cell or run using Interact more than once.\")\n",
       "           }\n",
       "       })\n",
       "       $([IPython.events]).on(\"kernel_starting.Kernel kernel_restarting.Kernel\", function () { window.interactLoadedFlag = false })\n",
       "   </script>\n",
       "</div>"
      ]
     },
     "metadata": {},
     "output_type": "display_data"
    }
   ],
   "source": [
    "using PyPlot, Interact"
   ]
  },
  {
   "cell_type": "markdown",
   "metadata": {},
   "source": [
    "# Circulant Matrices\n",
    "\n",
    "In this lecture, I want to introduce you to a new type of matrix: **circulant** matrices.  Like Hermitian matrices, they have orthonormal eigenvectors, but unlike Hermitian matrices we know *exactly* what their eigenvectors are!  Moreover, their eigenvectors are closely related to the famous Fourier transform and Fourier series.  Even more importantly, it turns out that circulant matrices and the eigenvectors lend themselves to **incredibly efficient** algorithms called FFTs, that play a central role in much of computational science and engineering.\n",
    "\n",
    "![a ring of springs](https://raw.githubusercontent.com/mitmath/1806/spring17/lectures/cyclic-springs.png) \n",
    "\n",
    "Consider a system of $n$ identical masses $m$ connected by springs $k$, sliding around a *circle* without friction.   Similar to lecture 26, the vector $\\vec{s}$ of displacements satifies $m\\frac{d^2\\vec{s}}{dt^2} = -kA\\vec{s}$, where $A$ is the $n \\times n$ matrix:\n",
    "\n",
    "$$\n",
    "A = \\begin{pmatrix} 2 & -1 & & & & & -1 \\\\\n",
    "                   -1 & 2 &-1& & & & \\\\\n",
    "                      &-1 &2&-1& & & \\\\\n",
    "                      &   &\\ddots&\\ddots&\\ddots& & \\\\ \n",
    "                   & & &-1 & 2  &-1 & \\\\\n",
    "                   & & & & -1 &2 & -1 \\\\\n",
    "                   -1 &   &  &  & &-1 &2\n",
    "    \\end{pmatrix}\n",
    "$$\n",
    "\n",
    "(This matrix is real-symmetric and, less obviously, positive semidefinite.  So, it should have orthogonal eigenvectors and real eigenvalues $\\lambda \\ge 0$.)\n",
    "\n",
    "For example, if $n = 7$:"
   ]
  },
  {
   "cell_type": "code",
   "execution_count": 2,
   "metadata": {},
   "outputs": [
    {
     "data": {
      "text/plain": [
       "7×7 Array{Int64,2}:\n",
       "  2  -1   0   0   0   0  -1\n",
       " -1   2  -1   0   0   0   0\n",
       "  0  -1   2  -1   0   0   0\n",
       "  0   0  -1   2  -1   0   0\n",
       "  0   0   0  -1   2  -1   0\n",
       "  0   0   0   0  -1   2  -1\n",
       " -1   0   0   0   0  -1   2"
      ]
     },
     "execution_count": 2,
     "metadata": {},
     "output_type": "execute_result"
    }
   ],
   "source": [
    "A = [ 2 -1  0  0  0  0 -1\n",
    "     -1  2 -1  0  0  0  0\n",
    "      0 -1  2 -1  0  0  0\n",
    "      0  0 -1  2 -1  0  0\n",
    "      0  0  0 -1  2 -1  0\n",
    "      0  0  0  0 -1  2 -1\n",
    "     -1  0  0  0  0 -1  2]"
   ]
  },
  {
   "cell_type": "markdown",
   "metadata": {},
   "source": [
    "This matrix has a very special pattern: *every row is the same as the previous row, just shifted to the right by 1* (wrapping around \"cyclically\" at the edges).  That is, each row is a [circular shift](https://en.wikipedia.org/wiki/Circular_shift) of the first row.\n",
    "\n",
    "This is called a [circulant matrix](https://en.wikipedia.org/wiki/Circulant_matrix).  A $4\\times 4$ circulant matrix looks like:\n",
    "\n",
    "$$\n",
    "C = \\begin{pmatrix}\n",
    "c_0 & c_1 & c_2 & c_3 \\\\\n",
    "c_3 & c_0 & c_1 & c_2 \\\\\n",
    "c_2 & c_3 & c_0 & c_1 \\\\\n",
    "c_1 & c_2 & c_3 & c_0\n",
    "\\end{pmatrix}\n",
    "$$\n",
    "\n",
    "The general form of an $n \\times n$ circulant matrix $C$ is:\n",
    "\n",
    "$$\n",
    "C = \\begin{pmatrix}\n",
    "c_0 & c_1 & c_2 & \\cdots & c_{n-1} \\\\\n",
    "c_{n-1} & c_0 & c_1 & c_2 & \\cdots \\\\\n",
    "c_{n-2} & c_{n-1} & c_1 & \\cdots \\\\\n",
    "\\ddots & \\ddots & \\ddots & \\ddots & \\ddots \\\\\n",
    "c_1 & c_2 & \\cdots & c_{n-1} & c_0 \n",
    "\\end{pmatrix}\n",
    "$$\n",
    "\n",
    "When working with circulant matrix, it is convenient to number entries from $0$ to $n-1$ rather than from $1$ to $n$!"
   ]
  },
  {
   "cell_type": "markdown",
   "metadata": {},
   "source": [
    "## Multiplying by circulant matrices: Convolutions\n",
    "\n",
    "Suppose we have an $n \\times n$ circulant matrix $C$ that we want to multiply by a vector $x = (x_0, x_1, \\ldots, x_n)$.   It turns out that the result is a very special kind of operation:\n",
    "\n",
    "$$\n",
    "y = Cx = \\begin{pmatrix}\n",
    "c_0 & c_1 & c_2 & \\cdots & c_{n-1} \\\\\n",
    "c_{n-1} & c_0 & c_1 & c_2 & \\cdots \\\\\n",
    "c_{n-2} & c_{n-1} & c_0 & \\cdots \\\\\n",
    "\\ddots & \\ddots & \\ddots & \\ddots & \\ddots \\\\\n",
    "c_1 & c_2 & \\cdots & c_{n-1} & c_0 \n",
    "\\end{pmatrix} \\begin{pmatrix} x_0 \\\\ x_1 \\\\ \\vdots \\\\ x_{n-1} \\end{pmatrix}\n",
    "$$\n",
    "\n",
    "Let's write down a formula for the entries of $y$:\n",
    "\n",
    "$$\n",
    "y_0 = c_0 x_0 + c_1 x_1 + c_2 x_2 + \\cdots \\\\\n",
    "y_1 = c_{n-1} x_0 + c_0 x_1 + c_1 x_2 + \\cdots \\\\\n",
    "y_3 = c_{n-2} x_0 + c_{n-1} x_1 + c_0 x_2 + \\cdots\n",
    "$$\n",
    "\n",
    "Can you see the pattern?  This is one of those cases that is actually clearer if we write out the summation:\n",
    "\n",
    "$$\n",
    "y_k = \\sum_{j=0}^n c_{j-k} x_j\n",
    "$$\n",
    "\n",
    "There is a slight problem with this formula: the subscript $j-k$ can be $< 0$!  No problem: we just *interpret the subscript periodically*, i.e. we let $c_{-1} = c_{n-1}$, $c_{-2} = c_{n-2}$, and so on.  Equivalently, we define $c_{j\\pm n} = c_j$.   (We could say that the subscripts are [modulo n](https://en.wikipedia.org/wiki/Modular_arithmetic).)\n",
    "\n",
    "Multiplying by a circulant matrix is equivalent to a very famous operation called a [circular convolution](https://en.wikipedia.org/wiki/Circular_convolution).  Convolution operations, and hence circulant matrices, show up in lots of applications: **digital signal processing**, **image compression**, **physics/engineering simulations**, **number theory** and **cryptography**, and so on."
   ]
  },
  {
   "cell_type": "markdown",
   "metadata": {},
   "source": [
    "# Eigenvectors of circulant matrices\n",
    "\n",
    "One amazing property of circulant matrices is that **the eigenvectors are always the same**.  The eigen-*values* are different for each C, but since we know the eigenvectors they are easy to diagonalize.\n",
    "\n",
    "We can actually see one eigenvector right away.  Let's call it $x^{(0)}$:\n",
    "\n",
    "$$\n",
    "x^{(0)} = \\begin{pmatrix} 1 \\\\ 1 \\\\ 1 \\\\ \\vdots \\\\ 1 \\end{pmatrix}\n",
    "$$\n",
    "\n",
    "This is an eigenvector because multiplying $C x^{(0)}$ **simply sums each row of C**.  But since each row of C contains the same entries (just in a different order), the sum is the same:\n",
    "\n",
    "$$\n",
    "C x^{(0)} = \\underbrace{(c_0 + c_1 + \\cdots + c_{n-1})}_{\\lambda_0} x^{(0)}\n",
    "$$\n",
    "\n",
    "Thus, one of the eigenvalues $\\lambda_0$ of $C$ is simply the sum of the row entries.\n",
    "\n",
    "How can we find the other eigenvectors?"
   ]
  },
  {
   "cell_type": "markdown",
   "metadata": {},
   "source": [
    "## Roots of unity\n",
    "\n",
    "The eigenvectors are simple to write down in terms of a very special value: a [primitive root of unity](https://en.wikipedia.org/wiki/Root_of_unity):\n",
    "\n",
    "$$\n",
    "\\omega_n = e^{\\frac{2\\pi i}{n}}\n",
    "$$\n",
    "\n",
    "The quantity $\\omega_n$ has the very special property that $\\omega_n^n = e^{2\\pi i} = 1 = \\omega_n^0$, but no smaller power equals 1.  Therefore, $\\omega_n^{j+n} = \\omega_n^j \\omega_n^n = \\omega_n^j$: the **exponents of ωₙ are periodic**.  (Just like the $c_j$!)\n",
    "\n",
    "For example, let's plot the powers of $\\omega_7$:"
   ]
  },
  {
   "cell_type": "code",
   "execution_count": 3,
   "metadata": {},
   "outputs": [
    {
     "data": {
      "text/plain": [
       "0.6234898018587336 + 0.7818314824680298im"
      ]
     },
     "execution_count": 3,
     "metadata": {},
     "output_type": "execute_result"
    }
   ],
   "source": [
    "ω₇ = exp(2π*im / 7)"
   ]
  },
  {
   "cell_type": "code",
   "execution_count": 4,
   "metadata": {},
   "outputs": [
    {
     "data": {
      "text/html": [],
      "text/plain": [
       "Interact.Slider{Int64}(Signal{Int64}(7, nactions=1),\"\",7,1:20,\"horizontal\",true,\"d\",true)"
      ]
     },
     "metadata": {},
     "output_type": "display_data"
    },
    {
     "data": {
      "image/png": "[encoded data removed]",
      "text/plain": [
       "PyPlot.Figure(PyObject <matplotlib.figure.Figure object at 0x32b28da10>)"
      ]
     },
     "execution_count": 4,
     "metadata": {
      "comm_id": "1c75c42b-c383-4fd3-9734-974e41b02a48",
      "reactive": true
     },
     "output_type": "execute_result"
    }
   ],
   "source": [
    "fig = figure()\n",
    "@manipulate for n in slider(1:20, value=7)\n",
    "    ω = exp(2π*im/n)\n",
    "    withfig(fig) do\n",
    "        for j = 1:n\n",
    "            z = ω ^ j\n",
    "            plot([0,real(z)], [0,imag(z)], ls=\"solid\", color=(1,.7,.7))\n",
    "            plot(real(z), imag(z), \"ro\")\n",
    "            text(real(z), imag(z), \"\\$\\\\omega_{$n}^{$j}\\$\")\n",
    "        end\n",
    "        axis(\"square\")\n",
    "        grid()\n",
    "        xlabel(\"real part\")\n",
    "        ylabel(\"imaginary part\")\n",
    "        title(\"$n-th roots of unity\")\n",
    "        xlim(-1.2,1.2)\n",
    "        ylim(-1.2,1.2)\n",
    "    end\n",
    "end"
   ]
  },
  {
   "cell_type": "markdown",
   "metadata": {},
   "source": [
    "They are called \"roots of unity\" because $\\omega_n^j$ for $j = 0,\\ldots,n-1$ (or $1,\\ldots,n$) are *all* the solutions $z$ to \n",
    "\n",
    "$$\n",
    "z^n = 1 .\n",
    "$$"
   ]
  },
  {
   "cell_type": "markdown",
   "metadata": {},
   "source": [
    "## Eigenvectors: The discrete Fourier transform (DFT)\n",
    "\n",
    "In terms of $\\omega_n$, the eigenvectors of a circulant matrix are easy: the **k-th eigenvector** $x^{(k)}$ ($k=0,\\ldots,n-1$) for **any n×n circulant matrix** is simply\n",
    "\n",
    "$$\n",
    "x^{(k)} = \\begin{pmatrix} \\omega_n^{0k} \\\\ \\omega_n^{1k} \\\\ \\omega_n^{2k} \\\\ \\vdots \\\\ \\omega_n^{(n-1)k} \\end{pmatrix}\n",
    "$$\n",
    "\n",
    "Therefore, the matrix $F$ whose columns are the eigenvectors is:\n",
    "\n",
    "$$\n",
    "F = \\begin{pmatrix} x^{(0)} & x^{(1)} & \\cdots & x^{(n-1)} \\end{pmatrix}\n",
    "$$\n",
    "\n",
    "with entries\n",
    "\n",
    "$$\n",
    "\\boxed{F_{jk} = x^{(k)}_j = \\omega_n^{jk} = e^{\\frac{2\\pi i}{n} jk}}.\n",
    "$$\n",
    "\n",
    "Multiplying a vector by $F$ is called a [discrete Fourier transform (DFT)](https://en.wikipedia.org/wiki/Discrete_Fourier_transform).  This is one of the most important matrices in the world!  (It is sort of a finite, computer-friendly analogue to a Fourier series if you've seen those before.)\n",
    "\n",
    "Before we show this, let's try it:"
   ]
  },
  {
   "cell_type": "code",
   "execution_count": 5,
   "metadata": {},
   "outputs": [
    {
     "data": {
      "text/plain": [
       "F (generic function with 1 method)"
      ]
     },
     "execution_count": 5,
     "metadata": {},
     "output_type": "execute_result"
    }
   ],
   "source": [
    "# define a function to create the n×n matrix F for any n:\n",
    "F(n) = [exp((2π*im/n)*j*k) for j=0:n-1, k=0:n-1]"
   ]
  },
  {
   "cell_type": "markdown",
   "metadata": {},
   "source": [
    "The $2\\times2$ and $4\\times 4$ DFT matrices $F$ are quite simple, for example\n",
    "$$\n",
    "F_{2\\times 2} = \\begin{pmatrix} 1 & 1 \\\\ 1 & -1 \\end{pmatrix}\n",
    "$$\n",
    "\n",
    "$$\n",
    "F_{4\\times 4} = \\begin{pmatrix} 1 & 1 & 1 & 1 \\\\ 1 & i & -1 & -i \\\\ 1 & -1 & 1 & -1 \\\\ 1 & -i & -1 & i \\end{pmatrix}\n",
    "$$"
   ]
  },
  {
   "cell_type": "code",
   "execution_count": 6,
   "metadata": {},
   "outputs": [
    {
     "data": {
      "text/plain": [
       "4×4 Array{Complex{Float64},2}:\n",
       " 1.0+0.0im   1.0+0.0im   1.0+0.0im   1.0+0.0im\n",
       " 1.0+0.0im   0.0+1.0im  -1.0+0.0im  -0.0-1.0im\n",
       " 1.0+0.0im  -1.0+0.0im   1.0-0.0im  -1.0+0.0im\n",
       " 1.0+0.0im  -0.0-1.0im  -1.0+0.0im   0.0+1.0im"
      ]
     },
     "execution_count": 6,
     "metadata": {},
     "output_type": "execute_result"
    }
   ],
   "source": [
    "round.(F(4))"
   ]
  },
  {
   "cell_type": "markdown",
   "metadata": {},
   "source": [
    "Let's check that it diagonalizes our $7 \\times 7$ mass-and-spring matrix $A$ from earlier.  We should have $F^{-1} A F = \\Lambda$:"
   ]
  },
  {
   "cell_type": "code",
   "execution_count": 7,
   "metadata": {},
   "outputs": [
    {
     "data": {
      "text/plain": [
       "7×7 Array{Complex{Float64},2}:\n",
       "  0.0-0.0im   -0.0-0.0im   -0.0-0.0im  …    0.0-0.0im   -0.0-0.0im\n",
       " -0.0-0.0im  0.753-0.0im    0.0+0.0im       0.0-0.0im    0.0+0.0im\n",
       " -0.0+0.0im    0.0-0.0im  2.445+0.0im      -0.0+0.0im    0.0+0.0im\n",
       "  0.0+0.0im    0.0+0.0im    0.0-0.0im       0.0-0.0im    0.0+0.0im\n",
       "  0.0-0.0im    0.0+0.0im    0.0-0.0im      -0.0+0.0im   -0.0+0.0im\n",
       " -0.0+0.0im    0.0-0.0im    0.0-0.0im  …  2.445-0.0im   -0.0-0.0im\n",
       "  0.0+0.0im    0.0+0.0im   -0.0+0.0im      -0.0-0.0im  0.753+0.0im"
      ]
     },
     "execution_count": 7,
     "metadata": {},
     "output_type": "execute_result"
    }
   ],
   "source": [
    "round.(inv(F(7)) * A * F(7), 3) # F⁻¹AF = Λ, rounded to 3 digits"
   ]
  },
  {
   "cell_type": "markdown",
   "metadata": {},
   "source": [
    "Compare the diagonal entries to the eigenvalues:"
   ]
  },
  {
   "cell_type": "code",
   "execution_count": 8,
   "metadata": {},
   "outputs": [
    {
     "data": {
      "text/plain": [
       "7-element Array{Float64,1}:\n",
       " -9.41142e-16\n",
       "  0.75302    \n",
       "  0.75302    \n",
       "  2.44504    \n",
       "  2.44504    \n",
       "  3.80194    \n",
       "  3.80194    "
      ]
     },
     "execution_count": 8,
     "metadata": {},
     "output_type": "execute_result"
    }
   ],
   "source": [
    "eigvals(A)"
   ]
  },
  {
   "cell_type": "code",
   "execution_count": 9,
   "metadata": {},
   "outputs": [
    {
     "data": {
      "text/plain": [
       "7-element Array{Complex{Float64},1}:\n",
       "      0.0-1.2326e-32im\n",
       " 0.75302-5.32581e-17im\n",
       " 2.44504+2.87857e-16im\n",
       " 3.80194+1.90437e-16im\n",
       " 3.80194+2.12572e-16im\n",
       " 2.44504-1.93109e-16im\n",
       " 0.75302+4.73147e-17im"
      ]
     },
     "execution_count": 9,
     "metadata": {},
     "output_type": "execute_result"
    }
   ],
   "source": [
    "diag(inv(F(7)) * A * F(7)) # diagonal entries"
   ]
  },
  {
   "cell_type": "markdown",
   "metadata": {},
   "source": [
    "Yup!\n",
    "\n",
    "Since $A$ is real-symmetric, you may wonder why the eigenvectors are not real.  But they *could* be *chosen* real.  For a real-symmetric circulant matrix, the real and imaginary parts of the eigenvectors are themselves eigenvectors.  This is why most of the eigenvalues come in pairs!  (The only eigenvalues that don't come in pairs correspond to eigenvectors $x^{(k)}$ that are purely real, e.g. $x^{(0)} = (1,1,\\ldots,1)$.)  These real and imaginary eigenvectors turn out to correspond to a [discrete cosine transform (DCT)](https://en.wikipedia.org/wiki/Discrete_cosine_transform) and a [discrete sine transform (DST)](https://en.wikipedia.org/wiki/Discrete_sine_transform)."
   ]
  },
  {
   "cell_type": "markdown",
   "metadata": {},
   "source": [
    "## Derivation and eigenvalues\n",
    "\n",
    "Why does this work?  It's easy to see if we take our formula from above for $Cx$ and multiply it by an eigenvector.  Let $y = C x^{(k)}$.  Then the ℓ-th component is:\n",
    "\n",
    "$$\n",
    "y_\\ell = \\sum_{j=0}^{n-1} c_{j-\\ell} \\omega_n^{jk} = \\omega_n^{\\ell k} \\sum_{j=0}^{n-1} c_{j-\\ell} \\omega_n^{(j-\\ell)k}\n",
    "$$\n",
    "\n",
    "But the remaining sum is now **independent of ℓ**: because both $c_j$ and $\\omega_n^j$ are periodic in $j$, all $j \\to j - \\ell$ does is to re-arrange the numbers being summed (a circular shift), so you get the **same sum**.  And $\\omega_n^{\\ell k} = x^{(k)}$, so we have:\n",
    "\n",
    "$$\n",
    "C x^{(k)} = \\lambda_k x^{(k)}\n",
    "$$\n",
    "\n",
    "where\n",
    "\n",
    "$$\n",
    "\\lambda_k = \\sum_{j=0}^{n-1} c_{j} \\omega_n^{jk}\n",
    "$$\n",
    "\n",
    "But if we define a vector $\\hat{c} = (\\lambda_0, \\lambda_1, \\ldots, \\lambda_{n-1})$, then\n",
    "\n",
    "$$\n",
    "\\hat{c} = F c\n",
    "$$\n",
    "\n",
    "That is, the **eigenvalues are the DFT of c** (where c = first row of C).\n",
    "\n",
    "Let's check it:"
   ]
  },
  {
   "cell_type": "code",
   "execution_count": 10,
   "metadata": {},
   "outputs": [
    {
     "data": {
      "text/plain": [
       "7-element Array{Complex{Float64},1}:\n",
       "              0.0+0.0im\n",
       " 0.75302+1.11022e-16im \n",
       " 2.44504-1.11022e-16im \n",
       " 3.80194-6.66134e-16im \n",
       " 3.80194-8.88178e-16im \n",
       " 2.44504-2.22045e-16im \n",
       " 0.75302+8.88178e-16im "
      ]
     },
     "execution_count": 10,
     "metadata": {},
     "output_type": "execute_result"
    }
   ],
   "source": [
    "F(7) * A[:,1] # DFT of first row/column of A"
   ]
  },
  {
   "cell_type": "code",
   "execution_count": 11,
   "metadata": {},
   "outputs": [
    {
     "data": {
      "text/plain": [
       "7-element Array{Float64,1}:\n",
       " -9.41142e-16\n",
       "  0.75302    \n",
       "  0.75302    \n",
       "  2.44504    \n",
       "  2.44504    \n",
       "  3.80194    \n",
       "  3.80194    "
      ]
     },
     "execution_count": 11,
     "metadata": {},
     "output_type": "execute_result"
    }
   ],
   "source": [
    "eigvals(A)"
   ]
  },
  {
   "cell_type": "markdown",
   "metadata": {},
   "source": [
    "Yup, they match!"
   ]
  },
  {
   "cell_type": "markdown",
   "metadata": {},
   "source": [
    "# Unitarity\n",
    "\n",
    "The DFT matrix F is special in many ways.  It is symmetric, but *not* Hermitian, so its eigenvalues are *not* real.  However, it has **orthogonal columns**:"
   ]
  },
  {
   "cell_type": "code",
   "execution_count": 12,
   "metadata": {},
   "outputs": [
    {
     "data": {
      "text/plain": [
       "7×7 Array{Complex{Float64},2}:\n",
       "  7.0+0.0im  -0.0-0.0im  -0.0+0.0im  …   0.0+0.0im   0.0+0.0im   0.0+0.0im\n",
       " -0.0+0.0im   7.0+0.0im  -0.0-0.0im     -0.0+0.0im   0.0+0.0im   0.0+0.0im\n",
       " -0.0-0.0im  -0.0+0.0im   7.0+0.0im     -0.0+0.0im   0.0+0.0im   0.0+0.0im\n",
       "  0.0-0.0im  -0.0-0.0im  -0.0-0.0im      0.0+0.0im  -0.0+0.0im  -0.0+0.0im\n",
       "  0.0-0.0im  -0.0-0.0im  -0.0-0.0im      7.0+0.0im   0.0+0.0im  -0.0+0.0im\n",
       "  0.0-0.0im   0.0-0.0im   0.0-0.0im  …   0.0-0.0im   7.0+0.0im  -0.0-0.0im\n",
       "  0.0-0.0im   0.0-0.0im   0.0-0.0im     -0.0-0.0im  -0.0+0.0im   7.0+0.0im"
      ]
     },
     "execution_count": 12,
     "metadata": {},
     "output_type": "execute_result"
    }
   ],
   "source": [
    "round.(F(7)' * F(7), 3)"
   ]
  },
  {
   "cell_type": "markdown",
   "metadata": {},
   "source": [
    "(It is a straightforward exercise to show this, e.g. using the [geometric-series](https://en.wikipedia.org/wiki/Geometric_series) summation formula.)\n",
    "\n",
    "The columns are orthogonal but not orthonormal because they have length $\\sqrt{n}$.  But this means that if we divide by their length, then:\n",
    "\n",
    "$$\n",
    "\\frac{1}{\\sqrt{n}} F\n",
    "$$\n",
    "\n",
    "is a **unitary** matrix.  Equivalently:\n",
    "\n",
    "$$\n",
    "F^{-1} = \\frac{1}{n} F^H = \\frac{1}{n} \\bar{F},\n",
    "$$\n",
    "\n",
    "where we have used the fact that $F^T = F$.  This is the **inverse discrete Fourier transform (IDFT)**.\n",
    "\n",
    "Note that this means that **every circulant matrix C has orthogonal eigenvectors** (the columns of F).  (Even if the matrix C is not Hermitian or one of the similar cases we have seen so far!)"
   ]
  },
  {
   "cell_type": "markdown",
   "metadata": {},
   "source": [
    "# Fast Fourier transforms (FFTs)\n",
    "\n",
    "The product $Fx$ for a vector $x$ is the DFT of $x$.  At first glance, it seems like it would require $\\sim n^2$ operations ($n$ dot products) like any other matrix–vector multiplication. \n",
    "\n",
    "One of the most amazing facts of computational science is that it is possible to compute the DFT $Fx$ in only $\\sim n \\log n$ operations (and $\\sim n$ storage), by a [fast Fourier transform (FFT) algorithm](https://en.wikipedia.org/wiki/Fast_Fourier_transform).  FFT algorithms mean that DFTs and circulant matrices become practical to deal with even for huge $n$, and are are the **core of a huge number of practical computational algorithms**.\n",
    "\n",
    "(From a linear-algebra viewpoint, it turns out that the \"dense\" matrix $F$ factors into a **product** of $\\sim \\log n$ **sparse** matrices.)\n",
    "\n",
    "FFTs aren't too complicated to understand (the simplest ones can be derived in a few lines of algebra), but they are a bit outside the scope of 18.06.  But `fft(x)` functions are built-in to Julia and every other computational-science environment:"
   ]
  },
  {
   "cell_type": "code",
   "execution_count": 13,
   "metadata": {},
   "outputs": [
    {
     "data": {
      "text/plain": [
       "7-element Array{Complex{Float64},1}:\n",
       "     0.0+0.0im\n",
       " 0.75302+0.0im\n",
       " 2.44504+0.0im\n",
       " 3.80194+0.0im\n",
       " 3.80194+0.0im\n",
       " 2.44504+0.0im\n",
       " 0.75302+0.0im"
      ]
     },
     "execution_count": 13,
     "metadata": {},
     "output_type": "execute_result"
    }
   ],
   "source": [
    "fft(A[:,1]) # computes the same thing as F(7) * A[:,1], but much faster"
   ]
  },
  {
   "cell_type": "markdown",
   "metadata": {},
   "source": [
    "But now that we know that $F$ diagonalizes any circulant matrix, it leads to an amazing fact: **you can multiply Cx for any circulant matrix in ~ n log n operations and ~ n work**.  \n",
    "\n",
    "Specifically, $C = F \\Lambda F^{-1} = F \\frac{\\Lambda}{n} \\bar{F}$, so to multiply $Cx$ we just need to:\n",
    "\n",
    "1. Multiply $\\hat{x} = \\bar{F} x$.  This can be done by an (inverse) FFT in $\\sim n log n$ operations.\n",
    "\n",
    "2. Multiply each component of $\\hat{x}$ by the eigenvalues $\\lambda_k/n$.  The eigenvalues can be computed by multiply $F$ by the first row of $C$, which can be done by an FFT in $\\sim n \\log n$ operations.\n",
    "\n",
    "3. Multiply by $F$ via another FFT in $\\sim n \\log n$ operations.\n",
    "\n",
    "This means that **circulant matrices are perfectly suited to iterative solver algorithms** (e.g. the power method or steepest-descent), just like sparse matrices!"
   ]
  },
  {
   "cell_type": "markdown",
   "metadata": {},
   "source": [
    "## A personal note\n",
    "\n",
    "FFTs are near and dear to your instructor's heart — 20 years ago, partially for my final project in Prof. Alan Edelman's class 18.337, I developed a library for FFTs along with a friend of mine.  Being arrogant MIT graduate students, we called it [FFTW: The Fastest Fourier Transform in the West](http://fftw.org/).  Fortunately, FFTW somewhat lived up to its name, and it is now the FFT library in Matlab, in Julia, and in many other software packages.\n",
    "\n",
    "![FFTW logo](http://fftw.org/fftw-logo-med.gif)"
   ]
  }
 ],
 "metadata": {
  "anaconda-cloud": {},
  "kernelspec": {
   "display_name": "Julia 0.5.0",
   "language": "julia",
   "name": "julia-0.5"
  },
  "language_info": {
   "file_extension": ".jl",
   "mimetype": "application/julia",
   "name": "julia",
   "version": "0.5.0"
  }
 },
 "nbformat": 4,
 "nbformat_minor": 2
}
